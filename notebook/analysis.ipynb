{
  "cells": [
    {
      "cell_type": "markdown",
      "metadata": {},
      "source": [
        "# PDF Annotation Analysis Notebook\n",
        "This notebook helps analyze and fine-tune OCR annotation for scanned datasheets."
      ]
    },
    {
      "cell_type": "code",
      "metadata": {},
      "execution_count": null,
      "outputs": [],
      "source": [
        "from pdf2image import convert_from_path\n",
        "import pytesseract, easyocr, keras_ocr\n",
        "import numpy as np, matplotlib.pyplot as plt, cv2\n",
        "from PIL import Image\n",
        "import glob"
      ]
    },
    {
      "cell_type": "code",
      "metadata": {},
      "execution_count": null,
      "outputs": [],
      "source": [
        "# Convert PDF to images\n",
        "images = convert_from_path('assets/sample.pdf')\n",
        "for i, img in enumerate(images):\n",
        "    img.save(f'assets/page_{i}.png')"
      ]
    },
    {
      "cell_type": "code",
      "metadata": {},
      "execution_count": null,
      "outputs": [],
      "source": [
        "# OCR and visualize\n",
        "img = np.array(images[0])\n",
        "gray = cv2.cvtColor(img, cv2.COLOR_RGB2GRAY)\n",
        "data = pytesseract.image_to_data(gray, output_type=pytesseract.Output.DICT)\n",
        "for i in range(len(data['text'])):\n",
        "    if int(data['conf'][i]) > 60:\n",
        "        (x, y, w, h) = (data['left'][i], data['top'][i], data['width'][i], data['height'][i])\n",
        "        img = cv2.rectangle(img, (x, y), (x+w, y+h), (0, 255, 0), 1)\n",
        "plt.imshow(img)"
      ]
    }
  ],
  "metadata": {
    "kernelspec": {
      "display_name": "Python 3",
      "language": "python",
      "name": "python3"
    },
    "language_info": {
      "name": "python",
      "version": "3.9"
    }
  },
  "nbformat": 4,
  "nbformat_minor": 5
}
